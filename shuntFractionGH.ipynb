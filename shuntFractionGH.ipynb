{
 "cells": [
  {
   "cell_type": "markdown",
   "id": "f703ac9d",
   "metadata": {},
   "source": [
    "#### Scintigraphic estimation of shunt fraction in patients with portosystemic shunting\n",
    "This notebook presents the concept of determining shunt fraction using scintigraphy for the evaluation of veterinary patients with congenital portosystemic vascular shunting (PSS).\n",
    "\n",
    "The hepatic portal system drains blood of the majority of the intestines and conveys it to the capillar system of the liver.  It is a portal system in that it collects blood from a capillary bed, and delivers it to another capillary bed.  It is a low pressure system. Normal portal blood pressure in the dog is 7 to 11 mmHg.  \n",
    "\n",
    "In patients with PSS, portal blood flow to some extent, bypasses the liver due to the presence of an abnormal communication with the systemic venous system.  Pressure in the caudal vena cava in the dog is 5.6 to 6.6 mmHg.  Due to the lower systemic venous pressure, blood will from from the portal vein to the caudal vena cava.  The amount or fraction of portal blood that is shunted will be a function of portal venous pressure, which in turn will be affected by the status of the capillary bed in the liver, and by peripheral venous pressure.  The shunt fraction gives an indication of the percentage of portal blood flow that bypasses the liver to reach the systemic circulation directly. \n",
    "\n"
   ]
  },
  {
   "cell_type": "markdown",
   "id": "523103e8",
   "metadata": {},
   "source": [
    "Data collection for estimation of the shunt fraction requires access to portal circulation. This may be achieved directly by inter-operative administration of tracer isotope via catheterization of a mesenteric vein or less invasively by injection of radio-tracer (Tc99m) into the spleen (which drains to the portal system) or onto the mucosal surface of the distal colon, which is also drained by the portal system.\n",
    "\n",
    "In per rectal portal scintigraphy Tc99m is deposited in the colon.  Immediately afterwards the patient is imaged on a gamma camera using \"list mode\" so that an image is acquired once every second or half second, for 40 to 60 seconds.\n",
    "\n",
    "In normal patients the camera will record initial arrival of radioactivity in the liver, followed after 12 to 14 seconds (the transit time through the liver ) by detection of activity in the heart.\n",
    "\n",
    "An image sequence typical of what is encountered in shown below.\n",
    "\n",
    "\n",
    "<img src=\"images/list_mode.png\" alt=\"Image not available\" />\n",
    "\n",
    "\n",
    "The image above were acquired every half second.  Count statistics and as as a result, image quality may be poor on these images. But they do contain data on a half second by half second basis.  To obtain an estimate of shunt fraction, regions of interest (ROIs) must be drawn around the liver and the heart.  This will be difficult to do on a single image in the sequence because of the short acquisition time and the low number of counts, but if all images are summed, then count statistics are improved for the summed image and regions are more clearly seen. The image below is such a summed image.\n",
    "\n",
    "<img src=\"images/summed_shunt_fraction.png\" alt=\"Image not available\"/>\n",
    "\n",
    "In the summed image (above) from a cat, the ROI marking the liver \"L\" is to the left and that marking the heart \"H\" is to the right.\n"
   ]
  },
  {
   "cell_type": "markdown",
   "id": "e68c8fe2",
   "metadata": {},
   "source": [
    "The plot below is a time activity curve from a (simulated) normal cat. It shows counts in each area of interest (liver and heart) over a 60 second period.  Note how for both regions there is an initial level of background radiation.  There is then a sharp rise in activity first in the liver and then some time later in the heart.\n",
    "\n",
    "<img src=\"images/TAC_normal.png\" alt=\"Image not available\"/>"
   ]
  },
  {
   "cell_type": "markdown",
   "id": "8d67c8a8",
   "metadata": {},
   "source": [
    "Once these ROIs have been drawn, the software in the gamma camera can be used to output the number of counts in the ROI for each ROI for each frame.\n",
    "\n",
    "\n",
    "The cell below will simulate a typical output:"
   ]
  },
  {
   "cell_type": "code",
   "execution_count": 9,
   "id": "5e8dcaa4",
   "metadata": {},
   "outputs": [
    {
     "name": "stdout",
     "output_type": "stream",
     "text": [
      "Completed\n"
     ]
    }
   ],
   "source": [
    "run ./scripts/setup.py"
   ]
  },
  {
   "cell_type": "markdown",
   "id": "3efe808b",
   "metadata": {},
   "source": [
    "Time activity curves can be simulated using the function \"TAC\" in the cell below. It requires a single user input. That input is the time in seconds between the arrival of radioactive tracer in the liver and its arrival in the heart. For cats this time difference is typically 14 seconds. That is to say, we expect 14 seconds accumulation of radioactivity in the liver before we see accumulation in the heart. Inputting \"14\" into the function i.e. running TAC(14), will generate a normal time activity curve for a cat.\n",
    "\n",
    "Think about the input you should give to simulate a cat with a single congenital portosystemic shunt. The function will accept input values from -14 to + 14. \n",
    "\n",
    "The function also calculates the shunt fraction. Low shunt fractions are normal, while fractions in the region 40 to 50% and higher are indicative of shunts.  The shunt fraction in cats in calculate as the ration of the sum of counts in the heart ROI divided by the sum of counts in the heart ROI plus the sum of counts in th eliver ROI,  in the 14 second period after the initial rise of activity in the liver (or heart -- which ever occurs first).\n",
    "\n",
    "i.e. \n",
    "\n",
    "Shunt fraction (as a percent) = $\\frac{\\sum\\limits _{n=1} ^{14}counts\\ in\\ heart\\ ROI}{\\sum\\limits _{n=1} ^{14}counts\\ in\\ heart\\ ROI\\ +\\ \\sum\\limits _{n=1}^{14}counts\\ in\\ liver\\ ROI}$ \n",
    "\n",
    "Where <b>n</b> is the frame number for the image showing the initial rise in liver or heart activity (whichever occurs first).\n",
    "\n",
    "\n",
    "\n",
    "\n"
   ]
  },
  {
   "cell_type": "code",
   "execution_count": 12,
   "id": "042f8b8e",
   "metadata": {},
   "outputs": [
    {
     "data": {
      "image/png": "[encoded data removed]",
      "text/plain": [
       "<Figure size 432x288 with 1 Axes>"
      ]
     },
     "metadata": {
      "needs_background": "light"
     },
     "output_type": "display_data"
    },
    {
     "name": "stdout",
     "output_type": "stream",
     "text": [
      "Shunt index calculated from this curve is 17.3 %.\n"
     ]
    }
   ],
   "source": [
    "TAC(10)"
   ]
  },
  {
   "cell_type": "markdown",
   "id": "996a75f5",
   "metadata": {},
   "source": [
    "#### Running the function with different inputs\n",
    "In this notebook you can create blank cells, enter and run the function TAC with different inputs to examin their effect on the appearance of the time activity curve and ,0the shunt fraction."
   ]
  },
  {
   "cell_type": "markdown",
   "id": "8c09ab9c",
   "metadata": {},
   "source": [
    "#### Actvity \n",
    "\n",
    "    *  Consider how this technique provides a quantitative assessment of portal shunting \n",
    "\n",
    "    *  Think also of potential sources of error in Shunt estimates\n",
    "\n",
    "\n",
    "\n"
   ]
  },
  {
   "cell_type": "raw",
   "id": "7277fc75",
   "metadata": {},
   "source": []
  }
 ],
 "metadata": {
  "kernelspec": {
   "display_name": "Python 3",
   "language": "python",
   "name": "python3"
  },
  "language_info": {
   "codemirror_mode": {
    "name": "ipython",
    "version": 3
   },
   "file_extension": ".py",
   "mimetype": "text/x-python",
   "name": "python",
   "nbconvert_exporter": "python",
   "pygments_lexer": "ipython3",
   "version": "3.6.13"
  }
 },
 "nbformat": 4,
 "nbformat_minor": 5
}
